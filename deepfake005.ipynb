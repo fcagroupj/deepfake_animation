{
 "cells": [
  {
   "cell_type": "code",
   "execution_count": 1,
   "id": "nominated-links",
   "metadata": {},
   "outputs": [
    {
     "name": "stdout",
     "output_type": "stream",
     "text": [
      "Cloning into 'first-order-model'...\n",
      "remote: Enumerating objects: 302, done.\u001b[K\n",
      "remote: Counting objects: 100% (3/3), done.\u001b[K\n",
      "remote: Compressing objects: 100% (3/3), done.\u001b[K\n",
      "remote: Total 302 (delta 0), reused 0 (delta 0), pack-reused 299\u001b[K\n",
      "Receiving objects: 100% (302/302), 72.15 MiB | 6.92 MiB/s, done.\n",
      "Resolving deltas: 100% (154/154), done.\n",
      "./first-order-model\n"
     ]
    }
   ],
   "source": [
    "# download repository and go to that folder\n",
    "# !git clone https://github.com/AliaksandrSiarohin/first-order-model\n",
    "# %cd first-order-model"
   ]
  },
  {
   "cell_type": "code",
   "execution_count": 1,
   "id": "plain-insertion",
   "metadata": {},
   "outputs": [],
   "source": [
    "import imageio\n",
    "import numpy as np\n",
    "import matplotlib.pyplot as plt\n",
    "import matplotlib.animation as animation\n",
    "from skimage.transform import resize\n",
    "\n",
    "import warnings\n",
    "warnings.filterwarnings(\"ignore\")\n",
    "\n"
   ]
  },
  {
   "cell_type": "code",
   "execution_count": 2,
   "id": "composed-tactics",
   "metadata": {},
   "outputs": [],
   "source": [
    "from demo import load_checkpoints\n",
    "generator, kp_detector = load_checkpoints(config_path='config/vox-256.yaml', \n",
    "                            checkpoint_path='img/vox-cpk.pth.tar')"
   ]
  },
  {
   "cell_type": "code",
   "execution_count": 3,
   "id": "mexican-feelings",
   "metadata": {},
   "outputs": [
    {
     "name": "stderr",
     "output_type": "stream",
     "text": [
      "100%|██████████| 852/852 [02:41<00:00,  5.27it/s]\n"
     ]
    }
   ],
   "source": [
    "from demo import make_animation\n",
    "from skimage import img_as_ubyte\n",
    "\n",
    "# for example: img/img2022cicq.png and img/driver.mp4\n",
    "source_image = imageio.imread('img/img2022cicq.png')  #/content/gdrive/My Drive/'+face_path)\n",
    "reader = imageio.get_reader('img/driver.mp4')   #/content/gdrive/My Drive/'+driver_path)\n",
    " \n",
    "fps = reader.get_meta_data()['fps']\n",
    "driving_video = []\n",
    "try:\n",
    "    for im in reader:\n",
    "        driving_video.append(im)\n",
    "except RuntimeError:\n",
    "    pass\n",
    "reader.close()\n",
    " \n",
    "#Resize image and video to 256x256\n",
    " \n",
    "source_image = resize(source_image, (256, 256))[..., :3]\n",
    "driving_video = [resize(frame, (256, 256))[..., :3] for frame in driving_video]\n",
    " \n",
    "predictions = make_animation(source_image, driving_video, generator, kp_detector, relative=True,\n",
    "                             adapt_movement_scale=True)\n",
    "#save resulting video\n",
    "imageio.mimsave('img/output1.mp4', [img_as_ubyte(frame) for frame in predictions])\n",
    " \n"
   ]
  },
  {
   "cell_type": "code",
   "execution_count": null,
   "id": "recorded-conflict",
   "metadata": {},
   "outputs": [],
   "source": []
  },
  {
   "cell_type": "code",
   "execution_count": null,
   "id": "hired-candy",
   "metadata": {},
   "outputs": [],
   "source": []
  }
 ],
 "metadata": {
  "kernelspec": {
   "display_name": "Python 3",
   "language": "python",
   "name": "python3"
  },
  "language_info": {
   "codemirror_mode": {
    "name": "ipython",
    "version": 3
   },
   "file_extension": ".py",
   "mimetype": "text/x-python",
   "name": "python",
   "nbconvert_exporter": "python",
   "pygments_lexer": "ipython3",
   "version": "3.8.10"
  }
 },
 "nbformat": 4,
 "nbformat_minor": 5
}
